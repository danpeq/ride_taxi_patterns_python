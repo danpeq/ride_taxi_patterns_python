{
 "cells": [
  {
   "cell_type": "markdown",
   "metadata": {},
   "source": [
    "Información del Proyecto:\n",
    "Trabajamos como analistas para la empresa Zuber, una empresa de viajes en Chicago. La tarea del proyecto es encontrar patrones de información en una base de datos. Se tienen que analizar datos de diferentes empresas competidoras y probar una hipótesis sobre el impacto del clima los días sábados."
   ]
  },
  {
   "cell_type": "code",
   "execution_count": 107,
   "metadata": {},
   "outputs": [],
   "source": [
    "import pandas as pd\n",
    "from matplotlib import pyplot as plt\n",
    "import numpy as np\n",
    "import seaborn as sns\n",
    "from scipy import stats as st\n",
    "import math"
   ]
  },
  {
   "cell_type": "code",
   "execution_count": 108,
   "metadata": {},
   "outputs": [],
   "source": [
    "df_result01 = pd.read_csv('/datasets/project_sql_result_01.csv')\n",
    "df_result04 = pd.read_csv('/datasets/project_sql_result_04.csv')\n",
    "df_result07 = pd.read_csv('/datasets/project_sql_result_07.csv')"
   ]
  },
  {
   "cell_type": "code",
   "execution_count": 68,
   "metadata": {},
   "outputs": [
    {
     "name": "stdout",
     "output_type": "stream",
     "text": [
      "<class 'pandas.core.frame.DataFrame'>\n",
      "RangeIndex: 64 entries, 0 to 63\n",
      "Data columns (total 2 columns):\n",
      " #   Column        Non-Null Count  Dtype \n",
      "---  ------        --------------  ----- \n",
      " 0   company_name  64 non-null     object\n",
      " 1   trips_amount  64 non-null     int64 \n",
      "dtypes: int64(1), object(1)\n",
      "memory usage: 1.1+ KB\n",
      "None\n"
     ]
    }
   ],
   "source": [
    "print(df_result01.info())"
   ]
  },
  {
   "cell_type": "code",
   "execution_count": 69,
   "metadata": {
    "scrolled": true
   },
   "outputs": [
    {
     "name": "stdout",
     "output_type": "stream",
     "text": [
      "<class 'pandas.core.frame.DataFrame'>\n",
      "RangeIndex: 94 entries, 0 to 93\n",
      "Data columns (total 2 columns):\n",
      " #   Column                 Non-Null Count  Dtype  \n",
      "---  ------                 --------------  -----  \n",
      " 0   dropoff_location_name  94 non-null     object \n",
      " 1   average_trips          94 non-null     float64\n",
      "dtypes: float64(1), object(1)\n",
      "memory usage: 1.6+ KB\n",
      "None\n"
     ]
    }
   ],
   "source": [
    "print(df_result04.info())"
   ]
  },
  {
   "cell_type": "code",
   "execution_count": 70,
   "metadata": {},
   "outputs": [
    {
     "name": "stdout",
     "output_type": "stream",
     "text": [
      "<class 'pandas.core.frame.DataFrame'>\n",
      "RangeIndex: 1068 entries, 0 to 1067\n",
      "Data columns (total 3 columns):\n",
      " #   Column              Non-Null Count  Dtype  \n",
      "---  ------              --------------  -----  \n",
      " 0   start_ts            1068 non-null   object \n",
      " 1   weather_conditions  1068 non-null   object \n",
      " 2   duration_seconds    1068 non-null   float64\n",
      "dtypes: float64(1), object(2)\n",
      "memory usage: 25.2+ KB\n",
      "None\n"
     ]
    }
   ],
   "source": [
    "print(df_result07.info())"
   ]
  },
  {
   "cell_type": "markdown",
   "metadata": {},
   "source": [
    " 1.0 El DataFrame 'df_result01' contiene 64 filas y 2 columnas.\n",
    " \n",
    " 1.1 No tiene valores nulos y el tipo de cada columna son correctos."
   ]
  },
  {
   "cell_type": "markdown",
   "metadata": {},
   "source": [
    "2.0 El DataFrame 'df_result04' contiene 94 filas y 2 columnas.\n",
    "\n",
    "2.1 No tiene valores nulos y el tipo de cada columna son correctos."
   ]
  },
  {
   "cell_type": "code",
   "execution_count": 71,
   "metadata": {},
   "outputs": [],
   "source": [
    "#De todas maneras nos vamos a asegurar de que los tipo de datos sean correctos\n",
    "df_result01['company_name'] = df_result01['company_name'].astype(str)\n",
    "df_result01['trips_amount'] = df_result01['trips_amount'].astype(int)"
   ]
  },
  {
   "cell_type": "code",
   "execution_count": 72,
   "metadata": {},
   "outputs": [],
   "source": [
    "df_result04['dropoff_location_name'] = df_result04['dropoff_location_name'].astype(str)\n",
    "df_result04['average_trips'] = df_result04['average_trips'].astype(float)"
   ]
  },
  {
   "cell_type": "code",
   "execution_count": 73,
   "metadata": {},
   "outputs": [],
   "source": [
    "df_result07['start_ts'] = pd.to_datetime(df_result07['start_ts'])\n",
    "df_result07['weather_conditions'] = df_result07['weather_conditions'].astype(str)\n",
    "df_result07['duration_seconds'] = df_result07['duration_seconds'].astype(float)"
   ]
  },
  {
   "cell_type": "code",
   "execution_count": 74,
   "metadata": {},
   "outputs": [
    {
     "name": "stdout",
     "output_type": "stream",
     "text": [
      "0\n"
     ]
    }
   ],
   "source": [
    "#Verificamos si los el Dataframe df_result01 cuenta con registros duplicados\n",
    "duplicates_df_result01 = df_result01.duplicated().sum()\n",
    "print(duplicates_df_result01)"
   ]
  },
  {
   "cell_type": "code",
   "execution_count": 75,
   "metadata": {},
   "outputs": [
    {
     "name": "stdout",
     "output_type": "stream",
     "text": [
      "0\n"
     ]
    }
   ],
   "source": [
    "#Verificamos si los el Dataframe df_result04 cuenta con registros duplicados\n",
    "duplicates_df_result04 = df_result04.duplicated().sum()\n",
    "print(duplicates_df_result04)"
   ]
  },
  {
   "cell_type": "code",
   "execution_count": 76,
   "metadata": {},
   "outputs": [
    {
     "name": "stdout",
     "output_type": "stream",
     "text": [
      "197\n"
     ]
    }
   ],
   "source": [
    "#Verificamos si los el Dataframe df_result07 cuenta con registros duplicados\n",
    "duplicates_df_result07 = df_result07.duplicated().sum()\n",
    "print(duplicates_df_result07)"
   ]
  },
  {
   "cell_type": "code",
   "execution_count": 77,
   "metadata": {
    "scrolled": false
   },
   "outputs": [
    {
     "name": "stdout",
     "output_type": "stream",
     "text": [
      "<class 'pandas.core.frame.DataFrame'>\n",
      "Int64Index: 871 entries, 0 to 1067\n",
      "Data columns (total 3 columns):\n",
      " #   Column              Non-Null Count  Dtype         \n",
      "---  ------              --------------  -----         \n",
      " 0   start_ts            871 non-null    datetime64[ns]\n",
      " 1   weather_conditions  871 non-null    object        \n",
      " 2   duration_seconds    871 non-null    float64       \n",
      "dtypes: datetime64[ns](1), float64(1), object(1)\n",
      "memory usage: 27.2+ KB\n",
      "None\n"
     ]
    }
   ],
   "source": [
    "# Procedemos a eliminar los resultados duplicados en df_result07\n",
    "df_result07 = df_result07.drop_duplicates()\n",
    "print(df_result07.info())"
   ]
  },
  {
   "cell_type": "code",
   "execution_count": 78,
   "metadata": {},
   "outputs": [
    {
     "name": "stdout",
     "output_type": "stream",
     "text": [
      "0\n"
     ]
    }
   ],
   "source": [
    "duplicates_df_result07 = df_result07.duplicated().sum()\n",
    "print(duplicates_df_result07)"
   ]
  },
  {
   "cell_type": "code",
   "execution_count": 79,
   "metadata": {
    "scrolled": true
   },
   "outputs": [
    {
     "name": "stdout",
     "output_type": "stream",
     "text": [
      "  dropoff_location_name  average_trips\n",
      "0                  Loop   10727.466667\n",
      "1           River North    9523.666667\n",
      "2         Streeterville    6664.666667\n",
      "3             West Loop    5163.666667\n",
      "4                O'Hare    2546.900000\n",
      "5             Lake View    2420.966667\n",
      "6            Grant Park    2068.533333\n",
      "7         Museum Campus    1510.000000\n",
      "8            Gold Coast    1364.233333\n",
      "9    Sheffield & DePaul    1259.766667\n"
     ]
    }
   ],
   "source": [
    "# Identificando los 10 principales barrios en términos de finalización del recorrido\n",
    "top_10_neighborhoods = df_result04.sort_values(by='average_trips', ascending=False).head(10)\n",
    "print(top_10_neighborhoods)"
   ]
  },
  {
   "cell_type": "code",
   "execution_count": 80,
   "metadata": {},
   "outputs": [
    {
     "name": "stdout",
     "output_type": "stream",
     "text": [
      "                        company_name  trips_amount\n",
      "0                          Flash Cab         19558\n",
      "1          Taxi Affiliation Services         11422\n",
      "2                  Medallion Leasing         10367\n",
      "3                         Yellow Cab          9888\n",
      "4    Taxi Affiliation Service Yellow          9299\n",
      "5          Chicago Carriage Cab Corp          9181\n",
      "6                       City Service          8448\n",
      "7                           Sun Taxi          7701\n",
      "8          Star North Management LLC          7455\n",
      "9  Blue Ribbon Taxi Association Inc.          5953\n"
     ]
    }
   ],
   "source": [
    "#Identificando las 10 principales empresas de taxi\n",
    "top_10_companies = df_result01.sort_values(by='trips_amount', ascending=False).head(10)\n",
    "print(top_10_companies)"
   ]
  },
  {
   "cell_type": "code",
   "execution_count": 81,
   "metadata": {},
   "outputs": [
    {
     "data": {
      "image/png": "[encoded data removed]",
      "text/plain": [
       "<Figure size 1200x600 with 1 Axes>"
      ]
     },
     "metadata": {},
     "output_type": "display_data"
    }
   ],
   "source": [
    "# Gráficos de empresas de taxis y números de viajes\n",
    "plt.figure(figsize=(12, 6))\n",
    "plt.bar(top_10_companies['company_name'], top_10_companies['trips_amount'], color='skyblue')\n",
    "plt.xlabel('Nombre de Empresa')\n",
    "plt.ylabel('Número de viajes')\n",
    "plt.title('Número de viajes por Empersa de taxi (15-16 Nov 2017)')\n",
    "plt.xticks(rotation=90)\n",
    "plt.yscale('linear')\n",
    "plt.show()"
   ]
  },
  {
   "cell_type": "markdown",
   "metadata": {},
   "source": [
    "<div class=\"alert alert-block alert-danger\">\n",
    "\n",
    "<b>Comentario del revisor</b> <a class=\"tocSkip\"></a>\n",
    "\n",
    "Muy buen trabajo con el desarrollo de la gráfica para visualizar los resultados. Solamente dado que al cliente le interesa el top 10 de las principales empresas con número de viajes, te recomiendo complementar este análisis con una gráfica solamente mostrando el top 10.</div>"
   ]
  },
  {
   "cell_type": "code",
   "execution_count": 82,
   "metadata": {},
   "outputs": [
    {
     "data": {
      "image/png": "[encoded data removed]",
      "text/plain": [
       "<Figure size 1000x600 with 1 Axes>"
      ]
     },
     "metadata": {},
     "output_type": "display_data"
    }
   ],
   "source": [
    "# Gráfico de los 10 barrios principales de acuerdo al número de finalizaciones\n",
    "plt.figure(figsize=(10, 6))\n",
    "plt.bar(top_10_neighborhoods['dropoff_location_name'], top_10_neighborhoods['average_trips'], color='orange')\n",
    "plt.xlabel('Barrios')\n",
    "plt.ylabel('Viajes Promedio')\n",
    "plt.title('Top 10 Barrios por promedio de viaje en Nov 2017')\n",
    "plt.xticks(rotation=90)\n",
    "plt.show()"
   ]
  },
  {
   "cell_type": "markdown",
   "metadata": {},
   "source": [
    "<div class=\"alert alert-block alert-success\">\n",
    "\n",
    "<b>Comentario del revisor</b> <a class=\"tocSkip\"></a>\n",
    "\n",
    "Excelente trabajo con el desarrollo de este análisis y lo complementaste con una gráfica.\n",
    "    </div>"
   ]
  },
  {
   "cell_type": "markdown",
   "metadata": {},
   "source": [
    "Conclusiones de los gráficos:"
   ]
  },
  {
   "cell_type": "markdown",
   "metadata": {},
   "source": [
    "1. Del gráfico 'Número de viajes por Empersa de taxi (15-16 Nov 2017)'. La empresa Flash cab es la empresa con mayor cantidad de viajes, casi 2000. Seguida por Taxi Affiliation Service y Mediallion Leasing. Lo que significa una preferencia de los clientes por estas 3 compañias, pueda ser debido al buen servicio, la calidad de los taxis, la cantidad de taxis y una buena estrategia de marketing."
   ]
  },
  {
   "cell_type": "markdown",
   "metadata": {},
   "source": [
    "2. Del gráfico 'Top 10 Barrios por promedio de viaje en Nov 2017'. Los barrios con mayor finalizaciones de viajes son Loop con mas de 10000, seguidos por River North y Streeteville. Esto puede deberse a la cantidad de densidad poblacional de los barrios y/o lugares de interes como oficinas, restaurantes, centros comerciales y otro tipo de negocios."
   ]
  },
  {
   "cell_type": "markdown",
   "metadata": {},
   "source": [
    "# 5. Prueba de Hipótesis"
   ]
  },
  {
   "cell_type": "code",
   "execution_count": 83,
   "metadata": {
    "scrolled": false
   },
   "outputs": [
    {
     "name": "stdout",
     "output_type": "stream",
     "text": [
      "<class 'pandas.core.frame.DataFrame'>\n",
      "RangeIndex: 1068 entries, 0 to 1067\n",
      "Data columns (total 3 columns):\n",
      " #   Column              Non-Null Count  Dtype  \n",
      "---  ------              --------------  -----  \n",
      " 0   start_ts            1068 non-null   object \n",
      " 1   weather_conditions  1068 non-null   object \n",
      " 2   duration_seconds    1068 non-null   float64\n",
      "dtypes: float64(1), object(2)\n",
      "memory usage: 25.2+ KB\n",
      "None\n"
     ]
    }
   ],
   "source": [
    "df_result07 = pd.read_csv('/datasets/project_sql_result_07.csv')\n",
    "print(df_result07.info())"
   ]
  },
  {
   "cell_type": "code",
   "execution_count": 84,
   "metadata": {},
   "outputs": [],
   "source": [
    "# Nos aseguramos que los datos no tengan valores nulos\n",
    "df_result07['duration_seconds'] = df_result07['duration_seconds'].fillna(df_result07['duration_seconds'].mean())\n",
    "df_result07['weather_conditions'] = df_result07['weather_conditions'].fillna('Unknown')"
   ]
  },
  {
   "cell_type": "code",
   "execution_count": 85,
   "metadata": {},
   "outputs": [],
   "source": [
    "# Nos aseguramos de rellenar los valores nulos en 'start_ts' y convertimos a formato datetime\n",
    "df_result07 = df_result07.dropna(subset=['start_ts'])\n",
    "df_result07['start_ts'] = pd.to_datetime(df_result07['start_ts'])"
   ]
  },
  {
   "cell_type": "code",
   "execution_count": 86,
   "metadata": {},
   "outputs": [],
   "source": [
    "#Creamos una columna para identificar los días sábados \n",
    "df_result07['is_saturday'] = df_result07['start_ts'].dt.dayofweek == 5"
   ]
  },
  {
   "cell_type": "code",
   "execution_count": 87,
   "metadata": {},
   "outputs": [
    {
     "data": {
      "text/plain": [
       "weather_conditions  dow\n",
       "Bad                 5      180\n",
       "Good                5      888\n",
       "dtype: int64"
      ]
     },
     "execution_count": 87,
     "metadata": {},
     "output_type": "execute_result"
    }
   ],
   "source": [
    "df_result07.groupby([\"weather_conditions\", df_result07['start_ts'].dt.dayofweek.rename(\"dow\")]).size()"
   ]
  },
  {
   "cell_type": "code",
   "execution_count": 88,
   "metadata": {},
   "outputs": [],
   "source": [
    "#Creamos una columna para identificar los días lluviosos\n",
    "df_result07['is_rainy'] = df_result07['weather_conditions'].str.contains('Bad', case=False)"
   ]
  },
  {
   "cell_type": "code",
   "execution_count": 89,
   "metadata": {},
   "outputs": [
    {
     "data": {
      "text/plain": [
       "array(['Good', 'Bad'], dtype=object)"
      ]
     },
     "execution_count": 89,
     "metadata": {},
     "output_type": "execute_result"
    }
   ],
   "source": [
    "df_result07['weather_conditions'].unique()"
   ]
  },
  {
   "cell_type": "code",
   "execution_count": 90,
   "metadata": {},
   "outputs": [
    {
     "name": "stdout",
     "output_type": "stream",
     "text": [
      "<class 'pandas.core.frame.DataFrame'>\n",
      "Int64Index: 1068 entries, 0 to 1067\n",
      "Data columns (total 5 columns):\n",
      " #   Column              Non-Null Count  Dtype         \n",
      "---  ------              --------------  -----         \n",
      " 0   start_ts            1068 non-null   datetime64[ns]\n",
      " 1   weather_conditions  1068 non-null   object        \n",
      " 2   duration_seconds    1068 non-null   float64       \n",
      " 3   is_saturday         1068 non-null   bool          \n",
      " 4   is_rainy            1068 non-null   bool          \n",
      "dtypes: bool(2), datetime64[ns](1), float64(1), object(1)\n",
      "memory usage: 35.5+ KB\n",
      "None\n"
     ]
    }
   ],
   "source": [
    "print(df_result07.info())"
   ]
  },
  {
   "cell_type": "code",
   "execution_count": 91,
   "metadata": {},
   "outputs": [],
   "source": [
    "# Filtramos los viajes de días sábado con lluvia\n",
    "saturday_rainy = df_result07[(df_result07['is_saturday']) & (df_result07['is_rainy'])]['duration_seconds']"
   ]
  },
  {
   "cell_type": "code",
   "execution_count": 92,
   "metadata": {},
   "outputs": [],
   "source": [
    "# Filtramos los viajes que no ocurrieron los días sábado con lluvia\n",
    "other_days = df_result07[~((df_result07['is_saturday']) & (df_result07['is_rainy']))]['duration_seconds']"
   ]
  },
  {
   "cell_type": "code",
   "execution_count": 93,
   "metadata": {},
   "outputs": [
    {
     "name": "stdout",
     "output_type": "stream",
     "text": [
      "Valores nulos en saturday_rainy: 0\n",
      "Valores nulos en other_days: 0\n"
     ]
    }
   ],
   "source": [
    "#Verificamos si todavía hay valores nulos después de la limpieza\n",
    "print(f\"Valores nulos en saturday_rainy: {saturday_rainy.isnull().sum()}\")\n",
    "print(f\"Valores nulos en other_days: {other_days.isnull().sum()}\")"
   ]
  },
  {
   "cell_type": "code",
   "execution_count": 95,
   "metadata": {},
   "outputs": [
    {
     "name": "stdout",
     "output_type": "stream",
     "text": [
      "Número de datos en sábados lluviosos: 180\n",
      "Número de datos en sábados con buen clima: 888\n"
     ]
    }
   ],
   "source": [
    "#Verificamos la longitud de los grupos\n",
    "print(f\"Número de datos en sábados lluviosos: {len(saturday_rainy)}\")\n",
    "print(f\"Número de datos en sábados con buen clima: {len(other_days)}\")"
   ]
  },
  {
   "cell_type": "code",
   "execution_count": 104,
   "metadata": {},
   "outputs": [
    {
     "name": "stdout",
     "output_type": "stream",
     "text": [
      "Levene test estadístico: 0.38853489683656073, p-value: 0.5332038671974493\n"
     ]
    }
   ],
   "source": [
    "#Realizamos la prueba de Levene para verificar la igualdad de varianzas\n",
    "levene_stat, levene_p = st.levene(saturday_rainy, other_days)\n",
    "\n",
    "alpha = 0.05\n",
    "\n",
    "print(f\"Levene test estadístico: {levene_stat}, p-value: {levene_p}\")\n",
    "\n",
    "equal_var = levene_p > alpha"
   ]
  },
  {
   "cell_type": "code",
   "execution_count": 105,
   "metadata": {},
   "outputs": [
    {
     "name": "stdout",
     "output_type": "stream",
     "text": [
      "T-statistic: 6.946177714041499, P-value: 6.517970327099473e-12\n",
      "Rechazamos la hipótesis nula. La duración promedio de los viajes en sábados lluviosos es significativamente diferente.\n"
     ]
    }
   ],
   "source": [
    "#Realizamos la prueba st.ttest_ind ahora que tenemos el valor de \"equal_var\"\n",
    "t_stat, p_value = st.ttest_ind(saturday_rainy, other_days, equal_var=equal_var)\n",
    "\n",
    "alpha = 0.05\n",
    "\n",
    "print(f\"T-statistic: {t_stat}, P-value: {p_value}\")\n",
    "\n",
    "if p_value < alpha:\n",
    "    print(\"Rechazamos la hipótesis nula. La duración promedio de los viajes en sábados lluviosos es significativamente diferente.\")\n",
    "else:\n",
    "    print(\"No podemos rechazar la hipótesis nula. No hay evidencia suficiente para afirmar que la duración promedio de los viajes en sábados lluviosos es significativamente diferente.\")"
   ]
  },
  {
   "cell_type": "markdown",
   "metadata": {},
   "source": [
    " <div class=\"alert alert-block alert-danger\">\n",
    "<b>Comentario revisor</b> <a class=\"tocSkip\"></a>\n",
    "\n",
    "Para esta prueba te recomiendo hacer una prueba de  Levene  para mostrar si las varianzas son iguales y agregarlo dentro de la función. Actualmente lo colocas como equal_var=False. Para esto, primero debes calcular las varianzas para cada uno de los días (lluvioso y no lluvioso) debes de hacer uso de la siguiente función: \n",
    "    \n",
    "    levene(rainy_saturday_trips['duration_seconds'], non_rainy_saturday_trips ['duration_seconds'])\n",
    "    \n",
    "Adoptaremos un nivel de significancia de 0.05; si el valor p resultante es mayor a 0.05, no podemos rechazar la hipótesis nula, y si es menor a 0.05, rechazamos la hipótesis nula, indicando que las varianzas no son iguales. \n",
    "    \n",
    "Solamente recuerda que la prueba de levene no es sustituto a la prueba de st.ttest_ind, más bien es complemento para saber que colocar dentro del elemento \"equal_var\".  Es por eso que para terminar la prueba debes de realizar la prueba de st.ttest_ind considernado el resultado de la prueba realizada de levene.  \n",
    "</div>"
   ]
  },
  {
   "cell_type": "markdown",
   "metadata": {},
   "source": [
    "Conclusión de Hipótesis:"
   ]
  },
  {
   "cell_type": "markdown",
   "metadata": {},
   "source": [
    "1. Primero me aseguré de que los datos no tengan valores nulos o vacíos.\n",
    "2. Segundo creé las columnas 'is_saturday' e 'is_rainy' para luego combinarlas y encontrar los resultados esperados.\n",
    "3. Utilicé la prueba de Levene como complemento para identificar los valores en las varianzas y de acuerdo a los resultados obtenidos utilizaremos la prueba de hipótesis st.ttest_ind para darle el valor indicado a equal_var.\n",
    "3. Realicé  la Hipótesis st.ttest_ind de muestras independientes para comparar datos en los dos grupos, en este caso la duración promedio de viajes los sábados en codiciones de lluvia y con la duración promedio de los viajes en otros días. Esta fórmula se utiliza para muestras independientes que toman en cuenta las medias, las varianzas y los tamaños de muestra de cada grupo, ya que este tipo de prueba de hipótesis es adecuada para tamaños de muestra pequeños a medianos."
   ]
  },
  {
   "cell_type": "markdown",
   "metadata": {},
   "source": [
    "<div class=\"alert alert-block alert-warning\">\n",
    "<b>Comentario revisor</b> <a class=\"tocSkip\"></a>\n",
    "\n",
    "En general, considero que realizaste un excelente trabajo con el proyecto. Lograste limpiar y organizar las bases de datos eficazmente. Además, tu análisis exploratorio fue exhaustivo, presentando resultados relevantes que serán muy útiles para la toma de decisiones. También, desarrollaste las pruebas de hipótesis de manera acertada. \n",
    "\n",
    "    "
   ]
  }
 ],
 "metadata": {
  "ExecuteTimeLog": [
   {
    "duration": 5093,
    "start_time": "2024-07-04T13:38:07.538Z"
   },
   {
    "duration": 19,
    "start_time": "2024-07-04T13:41:02.578Z"
   },
   {
    "duration": 24,
    "start_time": "2024-07-04T13:42:54.511Z"
   },
   {
    "duration": 13,
    "start_time": "2024-07-04T13:43:09.344Z"
   },
   {
    "duration": 13,
    "start_time": "2024-07-04T13:43:30.526Z"
   },
   {
    "duration": 4,
    "start_time": "2024-07-04T13:54:16.226Z"
   },
   {
    "duration": 15,
    "start_time": "2024-07-04T13:56:35.185Z"
   },
   {
    "duration": 16,
    "start_time": "2024-07-04T13:59:46.674Z"
   },
   {
    "duration": 14,
    "start_time": "2024-07-04T14:02:27.145Z"
   },
   {
    "duration": 5,
    "start_time": "2024-07-04T14:03:24.929Z"
   },
   {
    "duration": 16,
    "start_time": "2024-07-04T14:03:48.124Z"
   },
   {
    "duration": 5,
    "start_time": "2024-07-04T14:03:57.547Z"
   },
   {
    "duration": 5,
    "start_time": "2024-07-04T14:04:01.071Z"
   },
   {
    "duration": 5,
    "start_time": "2024-07-04T14:28:27.548Z"
   },
   {
    "duration": 9,
    "start_time": "2024-07-04T14:43:11.570Z"
   },
   {
    "duration": 1822,
    "start_time": "2024-07-04T14:50:43.523Z"
   },
   {
    "duration": 276,
    "start_time": "2024-07-04T14:57:31.352Z"
   },
   {
    "duration": 12,
    "start_time": "2024-07-04T15:14:50.579Z"
   },
   {
    "duration": 16,
    "start_time": "2024-07-04T15:15:25.851Z"
   },
   {
    "duration": 16,
    "start_time": "2024-07-04T15:17:21.947Z"
   },
   {
    "duration": 8,
    "start_time": "2024-07-04T15:25:51.501Z"
   },
   {
    "duration": 14,
    "start_time": "2024-07-04T15:31:14.453Z"
   },
   {
    "duration": 7,
    "start_time": "2024-07-04T15:33:40.118Z"
   },
   {
    "duration": 6,
    "start_time": "2024-07-04T15:37:37.659Z"
   },
   {
    "duration": 8,
    "start_time": "2024-07-04T15:41:37.741Z"
   },
   {
    "duration": 7,
    "start_time": "2024-07-04T15:49:50.260Z"
   },
   {
    "duration": 9,
    "start_time": "2024-07-04T16:08:11.724Z"
   },
   {
    "duration": 9,
    "start_time": "2024-07-04T16:08:34.831Z"
   },
   {
    "duration": 8,
    "start_time": "2024-07-04T16:08:37.430Z"
   },
   {
    "duration": 7,
    "start_time": "2024-07-04T16:08:38.116Z"
   },
   {
    "duration": 6,
    "start_time": "2024-07-04T16:08:38.970Z"
   },
   {
    "duration": 9,
    "start_time": "2024-07-04T16:08:39.644Z"
   },
   {
    "duration": 7,
    "start_time": "2024-07-04T16:08:40.403Z"
   },
   {
    "duration": 5,
    "start_time": "2024-07-04T16:08:41.894Z"
   },
   {
    "duration": 5,
    "start_time": "2024-07-04T16:09:26.776Z"
   },
   {
    "duration": 7,
    "start_time": "2024-07-04T16:16:29.637Z"
   },
   {
    "duration": 6,
    "start_time": "2024-07-04T16:17:29.646Z"
   },
   {
    "duration": 6,
    "start_time": "2024-07-04T16:19:42.542Z"
   },
   {
    "duration": 11,
    "start_time": "2024-07-04T16:19:43.263Z"
   },
   {
    "duration": 5,
    "start_time": "2024-07-04T16:19:44.193Z"
   },
   {
    "duration": 5,
    "start_time": "2024-07-04T16:19:44.886Z"
   },
   {
    "duration": 6,
    "start_time": "2024-07-04T16:19:45.605Z"
   },
   {
    "duration": 6,
    "start_time": "2024-07-04T16:19:46.817Z"
   },
   {
    "duration": 6,
    "start_time": "2024-07-04T16:19:47.955Z"
   },
   {
    "duration": 17,
    "start_time": "2024-07-04T16:21:21.318Z"
   },
   {
    "duration": 6,
    "start_time": "2024-07-04T16:21:22.339Z"
   },
   {
    "duration": 10,
    "start_time": "2024-07-04T16:21:28.608Z"
   },
   {
    "duration": 6,
    "start_time": "2024-07-04T16:21:30.319Z"
   },
   {
    "duration": 6,
    "start_time": "2024-07-04T16:21:33.767Z"
   },
   {
    "duration": 8,
    "start_time": "2024-07-04T16:21:36.055Z"
   },
   {
    "duration": 8,
    "start_time": "2024-07-04T16:21:39.305Z"
   },
   {
    "duration": 6,
    "start_time": "2024-07-04T16:21:41.431Z"
   },
   {
    "duration": 348,
    "start_time": "2024-07-04T19:04:57.656Z"
   },
   {
    "duration": 5134,
    "start_time": "2024-07-04T19:05:10.995Z"
   },
   {
    "duration": 18,
    "start_time": "2024-07-04T19:05:16.133Z"
   },
   {
    "duration": 20,
    "start_time": "2024-07-04T19:05:16.153Z"
   },
   {
    "duration": 16,
    "start_time": "2024-07-04T19:05:16.178Z"
   },
   {
    "duration": 6,
    "start_time": "2024-07-04T19:05:16.223Z"
   },
   {
    "duration": 6,
    "start_time": "2024-07-04T19:05:16.232Z"
   },
   {
    "duration": 12,
    "start_time": "2024-07-04T19:05:16.241Z"
   },
   {
    "duration": 1946,
    "start_time": "2024-07-04T19:05:16.257Z"
   },
   {
    "duration": 354,
    "start_time": "2024-07-04T19:05:18.207Z"
   },
   {
    "duration": 37,
    "start_time": "2024-07-04T19:05:18.596Z"
   },
   {
    "duration": 7,
    "start_time": "2024-07-04T19:05:19.204Z"
   },
   {
    "duration": 11,
    "start_time": "2024-07-04T19:05:49.631Z"
   },
   {
    "duration": 6,
    "start_time": "2024-07-04T19:05:56.342Z"
   },
   {
    "duration": 7,
    "start_time": "2024-07-04T19:06:56.047Z"
   },
   {
    "duration": 7,
    "start_time": "2024-07-04T19:06:56.944Z"
   },
   {
    "duration": 7,
    "start_time": "2024-07-04T19:06:57.951Z"
   },
   {
    "duration": 6,
    "start_time": "2024-07-04T19:08:29.048Z"
   },
   {
    "duration": 11,
    "start_time": "2024-07-04T19:08:29.649Z"
   },
   {
    "duration": 6,
    "start_time": "2024-07-04T19:09:22.647Z"
   },
   {
    "duration": 6,
    "start_time": "2024-07-04T19:10:48.789Z"
   },
   {
    "duration": 6,
    "start_time": "2024-07-04T19:13:04.976Z"
   },
   {
    "duration": 7,
    "start_time": "2024-07-04T19:13:21.753Z"
   },
   {
    "duration": 6,
    "start_time": "2024-07-04T19:13:51.486Z"
   },
   {
    "duration": 16,
    "start_time": "2024-07-04T19:22:49.103Z"
   },
   {
    "duration": 1039,
    "start_time": "2024-07-04T19:29:19.373Z"
   },
   {
    "duration": 0,
    "start_time": "2024-07-04T19:29:20.416Z"
   },
   {
    "duration": 5,
    "start_time": "2024-07-04T19:29:57.003Z"
   },
   {
    "duration": 7,
    "start_time": "2024-07-04T19:30:07.658Z"
   },
   {
    "duration": 5,
    "start_time": "2024-07-04T19:30:11.824Z"
   },
   {
    "duration": 5,
    "start_time": "2024-07-04T19:30:15.194Z"
   },
   {
    "duration": 5,
    "start_time": "2024-07-04T19:39:35.780Z"
   },
   {
    "duration": 10,
    "start_time": "2024-07-04T19:39:41.031Z"
   },
   {
    "duration": 6,
    "start_time": "2024-07-04T19:40:48.445Z"
   },
   {
    "duration": 7,
    "start_time": "2024-07-04T19:40:50.182Z"
   },
   {
    "duration": 16,
    "start_time": "2024-07-04T19:40:51.793Z"
   },
   {
    "duration": 6,
    "start_time": "2024-07-04T19:40:52.983Z"
   },
   {
    "duration": 88,
    "start_time": "2024-07-04T19:40:54.101Z"
   },
   {
    "duration": 6,
    "start_time": "2024-07-04T19:40:56.823Z"
   },
   {
    "duration": 6,
    "start_time": "2024-07-04T19:41:37.853Z"
   },
   {
    "duration": 6,
    "start_time": "2024-07-04T19:41:39.973Z"
   },
   {
    "duration": 5,
    "start_time": "2024-07-04T19:41:42.108Z"
   },
   {
    "duration": 8,
    "start_time": "2024-07-04T19:41:47.263Z"
   },
   {
    "duration": 22,
    "start_time": "2024-07-04T19:51:28.979Z"
   },
   {
    "duration": 16,
    "start_time": "2024-07-04T19:52:45.667Z"
   },
   {
    "duration": 14,
    "start_time": "2024-07-04T19:52:53.533Z"
   },
   {
    "duration": 20,
    "start_time": "2024-07-04T19:53:08.847Z"
   },
   {
    "duration": 7,
    "start_time": "2024-07-04T19:53:09.654Z"
   },
   {
    "duration": 12,
    "start_time": "2024-07-04T19:53:10.660Z"
   },
   {
    "duration": 358,
    "start_time": "2024-07-04T19:53:12.413Z"
   },
   {
    "duration": 9,
    "start_time": "2024-07-04T19:53:28.847Z"
   },
   {
    "duration": 13,
    "start_time": "2024-07-04T19:53:35.225Z"
   },
   {
    "duration": 8,
    "start_time": "2024-07-04T19:54:20.037Z"
   },
   {
    "duration": 5,
    "start_time": "2024-07-04T19:56:32.108Z"
   },
   {
    "duration": 6,
    "start_time": "2024-07-04T19:56:50.969Z"
   },
   {
    "duration": 13,
    "start_time": "2024-07-04T19:57:11.979Z"
   },
   {
    "duration": 13,
    "start_time": "2024-07-04T19:57:27.217Z"
   },
   {
    "duration": 9,
    "start_time": "2024-07-04T20:00:03.100Z"
   },
   {
    "duration": 8,
    "start_time": "2024-07-04T20:00:04.910Z"
   },
   {
    "duration": 5,
    "start_time": "2024-07-04T20:00:14.729Z"
   },
   {
    "duration": 13,
    "start_time": "2024-07-04T20:00:15.533Z"
   },
   {
    "duration": 15,
    "start_time": "2024-07-04T20:00:16.283Z"
   },
   {
    "duration": 16,
    "start_time": "2024-07-04T20:00:20.034Z"
   },
   {
    "duration": 5,
    "start_time": "2024-07-04T20:00:32.858Z"
   },
   {
    "duration": 16,
    "start_time": "2024-07-04T20:00:47.096Z"
   },
   {
    "duration": 5,
    "start_time": "2024-07-04T20:01:46.725Z"
   },
   {
    "duration": 15,
    "start_time": "2024-07-04T20:01:49.346Z"
   },
   {
    "duration": 16,
    "start_time": "2024-07-04T20:02:08.408Z"
   },
   {
    "duration": 27,
    "start_time": "2024-07-04T20:02:19.350Z"
   },
   {
    "duration": 6,
    "start_time": "2024-07-04T20:02:52.037Z"
   },
   {
    "duration": 11,
    "start_time": "2024-07-04T20:02:56.419Z"
   },
   {
    "duration": 7,
    "start_time": "2024-07-04T20:03:06.351Z"
   },
   {
    "duration": 13,
    "start_time": "2024-07-04T20:03:10.782Z"
   },
   {
    "duration": 2584,
    "start_time": "2024-07-04T20:05:59.358Z"
   },
   {
    "duration": 6,
    "start_time": "2024-07-04T20:06:14.666Z"
   },
   {
    "duration": 8,
    "start_time": "2024-07-04T20:06:21.414Z"
   },
   {
    "duration": 1848,
    "start_time": "2024-07-04T20:06:25.848Z"
   },
   {
    "duration": 1869,
    "start_time": "2024-07-04T20:11:35.976Z"
   },
   {
    "duration": 1911,
    "start_time": "2024-07-04T20:12:01.473Z"
   },
   {
    "duration": 2015,
    "start_time": "2024-07-04T20:12:14.667Z"
   },
   {
    "duration": 3547,
    "start_time": "2024-07-04T20:13:10.227Z"
   },
   {
    "duration": 3585,
    "start_time": "2024-07-04T20:13:33.848Z"
   },
   {
    "duration": 3560,
    "start_time": "2024-07-04T20:13:43.163Z"
   },
   {
    "duration": 292,
    "start_time": "2024-07-04T20:13:58.353Z"
   },
   {
    "duration": 455,
    "start_time": "2024-07-04T20:14:03.685Z"
   },
   {
    "duration": 3751,
    "start_time": "2024-07-04T20:14:13.290Z"
   },
   {
    "duration": 3507,
    "start_time": "2024-07-04T20:14:24.790Z"
   },
   {
    "duration": 3618,
    "start_time": "2024-07-04T20:14:41.299Z"
   },
   {
    "duration": 4942,
    "start_time": "2024-07-04T20:15:22.784Z"
   },
   {
    "duration": 3196,
    "start_time": "2024-07-04T20:15:29.787Z"
   },
   {
    "duration": 7,
    "start_time": "2024-07-04T20:15:48.298Z"
   },
   {
    "duration": 2109,
    "start_time": "2024-07-04T20:16:15.540Z"
   },
   {
    "duration": 2049,
    "start_time": "2024-07-04T20:16:26.229Z"
   },
   {
    "duration": 15,
    "start_time": "2024-07-04T20:22:31.788Z"
   },
   {
    "duration": 1975,
    "start_time": "2024-07-04T20:22:55.790Z"
   },
   {
    "duration": 1931,
    "start_time": "2024-07-04T20:23:06.099Z"
   },
   {
    "duration": 3726,
    "start_time": "2024-07-04T20:27:45.111Z"
   },
   {
    "duration": 3684,
    "start_time": "2024-07-04T20:28:22.734Z"
   },
   {
    "duration": 3791,
    "start_time": "2024-07-04T20:28:39.227Z"
   },
   {
    "duration": 2437,
    "start_time": "2024-07-04T20:30:21.871Z"
   },
   {
    "duration": 2162,
    "start_time": "2024-07-04T20:31:24.041Z"
   },
   {
    "duration": 3725,
    "start_time": "2024-07-04T20:31:30.789Z"
   },
   {
    "duration": 3769,
    "start_time": "2024-07-04T20:31:47.543Z"
   },
   {
    "duration": 3819,
    "start_time": "2024-07-04T20:32:01.292Z"
   },
   {
    "duration": 4195,
    "start_time": "2024-07-04T20:32:21.069Z"
   },
   {
    "duration": 4851,
    "start_time": "2024-07-04T20:33:19.450Z"
   },
   {
    "duration": 4422,
    "start_time": "2024-07-04T20:33:37.481Z"
   },
   {
    "duration": 4503,
    "start_time": "2024-07-04T20:34:01.047Z"
   },
   {
    "duration": 5221,
    "start_time": "2024-07-04T20:34:49.361Z"
   },
   {
    "duration": 31,
    "start_time": "2024-07-04T20:37:09.349Z"
   },
   {
    "duration": 406,
    "start_time": "2024-07-05T14:03:26.170Z"
   },
   {
    "duration": 22,
    "start_time": "2024-07-05T14:03:27.870Z"
   },
   {
    "duration": 5206,
    "start_time": "2024-07-05T14:03:37.753Z"
   },
   {
    "duration": 17,
    "start_time": "2024-07-05T14:03:42.963Z"
   },
   {
    "duration": 30,
    "start_time": "2024-07-05T14:03:42.985Z"
   },
   {
    "duration": 17,
    "start_time": "2024-07-05T14:03:43.023Z"
   },
   {
    "duration": 15,
    "start_time": "2024-07-05T14:03:43.651Z"
   },
   {
    "duration": 17,
    "start_time": "2024-07-05T14:03:53.541Z"
   },
   {
    "duration": 8,
    "start_time": "2024-07-05T14:09:24.947Z"
   },
   {
    "duration": 7,
    "start_time": "2024-07-05T14:10:11.085Z"
   },
   {
    "duration": 8,
    "start_time": "2024-07-05T14:10:33.834Z"
   },
   {
    "duration": 17,
    "start_time": "2024-07-05T14:13:03.518Z"
   },
   {
    "duration": 7,
    "start_time": "2024-07-05T14:13:25.835Z"
   },
   {
    "duration": 16,
    "start_time": "2024-07-05T14:14:49.271Z"
   },
   {
    "duration": 9,
    "start_time": "2024-07-05T14:15:02.718Z"
   },
   {
    "duration": 10,
    "start_time": "2024-07-05T14:20:26.786Z"
   },
   {
    "duration": 6,
    "start_time": "2024-07-05T14:20:34.247Z"
   },
   {
    "duration": 7,
    "start_time": "2024-07-05T14:20:35.082Z"
   },
   {
    "duration": 9,
    "start_time": "2024-07-05T14:20:35.948Z"
   },
   {
    "duration": 20,
    "start_time": "2024-07-05T14:20:38.212Z"
   },
   {
    "duration": 7,
    "start_time": "2024-07-05T14:20:46.323Z"
   },
   {
    "duration": 13,
    "start_time": "2024-07-05T14:21:01.053Z"
   },
   {
    "duration": 8,
    "start_time": "2024-07-05T14:24:01.856Z"
   },
   {
    "duration": 2300,
    "start_time": "2024-07-05T14:27:29.367Z"
   },
   {
    "duration": 2772,
    "start_time": "2024-07-05T14:27:52.393Z"
   },
   {
    "duration": 9,
    "start_time": "2024-07-05T14:31:19.263Z"
   },
   {
    "duration": 336,
    "start_time": "2024-07-05T14:43:01.535Z"
   },
   {
    "duration": 333,
    "start_time": "2024-07-05T14:44:05.961Z"
   },
   {
    "duration": 526,
    "start_time": "2024-07-05T14:44:51.774Z"
   },
   {
    "duration": 147,
    "start_time": "2024-07-05T15:15:28.857Z"
   },
   {
    "duration": 6,
    "start_time": "2024-07-05T15:15:36.501Z"
   },
   {
    "duration": 21,
    "start_time": "2024-07-05T15:15:36.512Z"
   },
   {
    "duration": 22,
    "start_time": "2024-07-05T15:15:36.537Z"
   },
   {
    "duration": 18,
    "start_time": "2024-07-05T15:15:36.564Z"
   },
   {
    "duration": 44,
    "start_time": "2024-07-05T15:15:36.586Z"
   },
   {
    "duration": 15,
    "start_time": "2024-07-05T15:15:36.633Z"
   },
   {
    "duration": 6,
    "start_time": "2024-07-05T15:15:36.652Z"
   },
   {
    "duration": 6,
    "start_time": "2024-07-05T15:15:36.662Z"
   },
   {
    "duration": 57,
    "start_time": "2024-07-05T15:15:36.671Z"
   },
   {
    "duration": 6,
    "start_time": "2024-07-05T15:15:36.735Z"
   },
   {
    "duration": 7,
    "start_time": "2024-07-05T15:15:36.745Z"
   },
   {
    "duration": 8,
    "start_time": "2024-07-05T15:15:36.755Z"
   },
   {
    "duration": 68,
    "start_time": "2024-07-05T15:15:36.767Z"
   },
   {
    "duration": 8,
    "start_time": "2024-07-05T15:15:36.839Z"
   },
   {
    "duration": 9,
    "start_time": "2024-07-05T15:15:36.850Z"
   },
   {
    "duration": 9,
    "start_time": "2024-07-05T15:15:36.863Z"
   },
   {
    "duration": 375,
    "start_time": "2024-07-05T15:15:36.923Z"
   },
   {
    "duration": 314,
    "start_time": "2024-07-05T15:15:37.302Z"
   },
   {
    "duration": 22,
    "start_time": "2024-07-05T15:15:37.619Z"
   },
   {
    "duration": 8,
    "start_time": "2024-07-05T15:15:37.645Z"
   },
   {
    "duration": 19,
    "start_time": "2024-07-05T15:15:37.657Z"
   },
   {
    "duration": 6,
    "start_time": "2024-07-05T15:15:37.722Z"
   },
   {
    "duration": 15,
    "start_time": "2024-07-05T15:15:37.731Z"
   },
   {
    "duration": 8,
    "start_time": "2024-07-05T15:15:37.749Z"
   },
   {
    "duration": 7,
    "start_time": "2024-07-05T15:15:37.761Z"
   },
   {
    "duration": 64,
    "start_time": "2024-07-05T15:15:37.771Z"
   },
   {
    "duration": 8,
    "start_time": "2024-07-05T15:15:37.838Z"
   },
   {
    "duration": 6,
    "start_time": "2024-07-05T15:15:37.854Z"
   },
   {
    "duration": 7,
    "start_time": "2024-07-05T15:15:37.864Z"
   },
   {
    "duration": 51,
    "start_time": "2024-07-05T15:15:37.874Z"
   },
   {
    "duration": 5,
    "start_time": "2024-07-05T15:15:44.174Z"
   },
   {
    "duration": 7,
    "start_time": "2024-07-05T15:15:45.859Z"
   },
   {
    "duration": 762,
    "start_time": "2024-07-05T15:24:04.908Z"
   },
   {
    "duration": 31,
    "start_time": "2024-07-05T15:24:49.348Z"
   },
   {
    "duration": 5,
    "start_time": "2024-07-05T15:24:58.663Z"
   },
   {
    "duration": 16,
    "start_time": "2024-07-05T15:24:58.673Z"
   },
   {
    "duration": 19,
    "start_time": "2024-07-05T15:24:58.692Z"
   },
   {
    "duration": 19,
    "start_time": "2024-07-05T15:24:58.714Z"
   },
   {
    "duration": 17,
    "start_time": "2024-07-05T15:24:58.739Z"
   },
   {
    "duration": 16,
    "start_time": "2024-07-05T15:24:58.760Z"
   },
   {
    "duration": 45,
    "start_time": "2024-07-05T15:24:58.780Z"
   },
   {
    "duration": 6,
    "start_time": "2024-07-05T15:24:58.829Z"
   },
   {
    "duration": 9,
    "start_time": "2024-07-05T15:24:58.838Z"
   },
   {
    "duration": 7,
    "start_time": "2024-07-05T15:24:58.850Z"
   },
   {
    "duration": 7,
    "start_time": "2024-07-05T15:24:58.861Z"
   },
   {
    "duration": 8,
    "start_time": "2024-07-05T15:24:58.924Z"
   },
   {
    "duration": 20,
    "start_time": "2024-07-05T15:24:58.935Z"
   },
   {
    "duration": 9,
    "start_time": "2024-07-05T15:24:58.963Z"
   },
   {
    "duration": 52,
    "start_time": "2024-07-05T15:24:58.977Z"
   },
   {
    "duration": 10,
    "start_time": "2024-07-05T15:24:59.033Z"
   },
   {
    "duration": 399,
    "start_time": "2024-07-05T15:24:59.048Z"
   },
   {
    "duration": 320,
    "start_time": "2024-07-05T15:24:59.450Z"
   },
   {
    "duration": 19,
    "start_time": "2024-07-05T15:24:59.775Z"
   },
   {
    "duration": 28,
    "start_time": "2024-07-05T15:24:59.797Z"
   },
   {
    "duration": 11,
    "start_time": "2024-07-05T15:24:59.829Z"
   },
   {
    "duration": 7,
    "start_time": "2024-07-05T15:24:59.844Z"
   },
   {
    "duration": 13,
    "start_time": "2024-07-05T15:24:59.855Z"
   },
   {
    "duration": 53,
    "start_time": "2024-07-05T15:24:59.871Z"
   },
   {
    "duration": 8,
    "start_time": "2024-07-05T15:24:59.931Z"
   },
   {
    "duration": 17,
    "start_time": "2024-07-05T15:24:59.943Z"
   },
   {
    "duration": 7,
    "start_time": "2024-07-05T15:24:59.963Z"
   },
   {
    "duration": 50,
    "start_time": "2024-07-05T15:24:59.974Z"
   },
   {
    "duration": 7,
    "start_time": "2024-07-05T15:25:00.030Z"
   },
   {
    "duration": 6,
    "start_time": "2024-07-05T15:25:00.040Z"
   },
   {
    "duration": 5,
    "start_time": "2024-07-05T15:25:19.195Z"
   },
   {
    "duration": 29,
    "start_time": "2024-07-05T15:25:20.405Z"
   },
   {
    "duration": 89,
    "start_time": "2024-07-05T15:25:50.252Z"
   },
   {
    "duration": 27,
    "start_time": "2024-07-05T15:25:59.592Z"
   },
   {
    "duration": 94,
    "start_time": "2024-07-05T15:26:31.311Z"
   },
   {
    "duration": 87,
    "start_time": "2024-07-05T15:27:46.853Z"
   },
   {
    "duration": 203,
    "start_time": "2024-07-05T15:28:13.213Z"
   },
   {
    "duration": 26,
    "start_time": "2024-07-05T15:28:17.460Z"
   },
   {
    "duration": 94,
    "start_time": "2024-07-05T15:28:30.458Z"
   },
   {
    "duration": 7,
    "start_time": "2024-07-05T15:30:24.539Z"
   },
   {
    "duration": 7,
    "start_time": "2024-07-05T15:35:55.733Z"
   },
   {
    "duration": 17,
    "start_time": "2024-07-05T15:58:11.743Z"
   },
   {
    "duration": 4,
    "start_time": "2024-07-05T15:58:25.389Z"
   },
   {
    "duration": 27,
    "start_time": "2024-07-05T15:58:25.866Z"
   }
  ],
  "kernelspec": {
   "display_name": "Python 3 (ipykernel)",
   "language": "python",
   "name": "python3"
  },
  "language_info": {
   "codemirror_mode": {
    "name": "ipython",
    "version": 3
   },
   "file_extension": ".py",
   "mimetype": "text/x-python",
   "name": "python",
   "nbconvert_exporter": "python",
   "pygments_lexer": "ipython3",
   "version": "3.9.19"
  },
  "toc": {
   "base_numbering": 1,
   "nav_menu": {},
   "number_sections": true,
   "sideBar": true,
   "skip_h1_title": true,
   "title_cell": "Table of Contents",
   "title_sidebar": "Contents",
   "toc_cell": false,
   "toc_position": {},
   "toc_section_display": true,
   "toc_window_display": false
  }
 },
 "nbformat": 4,
 "nbformat_minor": 2
}
